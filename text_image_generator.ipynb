import streamlit as st
import google.generativeai as genai
from google.generativeai import types
from PIL import Image
from io import BytesIO
import base64 # Required for image handling, though PIL often handles bytes directly

# --- API Key Configuration ---
# You have a few options for your API key in Streamlit:
# 1. Streamlit Secrets (Recommended for security and ease of deployment)
#    Create a .streamlit/secrets.toml file in your project root with:
#    GOOGLE_API_KEY = "YOUR_API_KEY"
#    Then access it as st.secrets["GOOGLE_API_KEY"]
# 2. Environment Variable
#    Set GOOGLE_API_KEY as an environment variable before running the app.
#    Then access it with os.getenv("GOOGLE_API_KEY")
# 3. Direct Input (Less secure, but simple for local testing)
#    st.text_input("Enter your Google API Key:", type="password")

# For this example, we'll use Streamlit secrets.
try:
    genai.configure(api_key=st.secrets["GOOGLE_API_KEY"])
except AttributeError:
    st.error("Please set your Google API Key in Streamlit secrets. Refer to the comments in the code.")
    st.stop() # Stop the app if the API key isn't found

st.title("Gemini API Demo with Streamlit")

st.markdown("""
This app demonstrates basic text and image generation using Google's Gemini API.
""")

# --- Text Generation Section ---
st.header("Text Generation")
st.write("Ask Gemini a question and get a text response.")

text_query = st.text_input("Your question:", "Who is the god of cricket?")

if st.button("Generate Text Response"):
    if text_query:
        try:
            model = genai.GenerativeModel("gemini-pro") # Using gemini-pro for general text
            with st.spinner("Generating text..."):
                response = model.generate_content(text_query)
            st.success("Response:")
            st.write(response.text)
        except Exception as e:
            st.error(f"Error generating text: {e}")
    else:
        st.warning("Please enter a question.")

st.markdown("---")

# --- Text Generation with Config Section ---
st.header("Configurable Text Generation")
st.write("Generate text with custom parameters like max output tokens and temperature.")

explain_ai_query = st.text_area("Topic to explain:", "Explain how AI works")
max_tokens = st.slider("Max Output Tokens:", 50, 500, 100)
temperature = st.slider("Temperature (creativity):", 0.0, 2.0, 1.5, 0.1)

if st.button("Generate Configured Text"):
    if explain_ai_query:
        try:
            model = genai.GenerativeModel("gemini-pro") # Using gemini-pro for general text
            with st.spinner("Generating configured text..."):
                response = model.generate_content(
                    explain_ai_query,
                    generation_config=types.GenerateContentConfig(
                        max_output_tokens=max_tokens,
                        temperature=temperature
                    )
                )
            st.success("Configured Response:")
            st.write(response.text)
        except Exception as e:
            st.error(f"Error generating configured text: {e}")
    else:
        st.warning("Please enter a topic to explain.")

st.markdown("---")

# --- Image Generation Section ---
st.header("Image Generation")
st.write("Describe an image you want Gemini to create.")

image_prompt = st.text_area(
    "Describe the image:",
    'A 3D rendered image of an RCB team, futuristic cricket stadium'
)

if st.button("Generate Image"):
    if image_prompt:
        try:
            image_model = genai.GenerativeModel("gemini-1.5-flash") # gemini-1.5-flash is suitable for multimodal
            with st.spinner("Generating image... This might take a moment..."):
                response = image_model.generate_content(
                    image_prompt,
                    generation_config=types.GenerateContentConfig(
                        response_mime_types=['image/png'] # Requesting a specific image type
                    )
                )
            st.success("Generated Image:")

            # Assuming the response contains image data directly
            for part in response.candidates[0].content.parts:
                if part.text:
                    st.write(f"Model's description/text: {part.text}")
                elif part.inline_data:
                    image_data = base64.b64decode(part.inline_data.data)
                    image = Image.open(BytesIO(image_data))
                    st.image(image, caption="Generated Image", use_column_width=True)
                    # Option to save the image (local execution)
                    # image.save("gemini-generated-image.png")
                    # st.download_button("Download Image", data=image_data, file_name="gemini-generated-image.png", mime="image/png")
        except Exception as e:
            st.error(f"Error generating image: {e}")
            st.info("Ensure you are using a model capable of image generation (e.g., `gemini-1.5-flash`).")
    else:
        st.warning("Please enter an image description.")

st.markdown("---")
st.info("Note: The `google.colab.drive` import is specific to Google Colab and is not relevant for a Streamlit app.")
